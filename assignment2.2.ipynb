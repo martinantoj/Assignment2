{
 "cells": [
  {
   "cell_type": "code",
   "execution_count": 5,
   "metadata": {
    "collapsed": false
   },
   "outputs": [
    {
     "name": "stdout",
     "output_type": "stream",
     "text": [
      "['A', 'C', 'A', 'D', 'G', 'I', 'L', 'D']\n",
      "['x', 'xx', 'xxx', 'xxxx', 'y', 'yy', 'yyy', 'yyyy', 'z', 'zz', 'zzz', 'zzzz']\n",
      "x y z xx yy zz xx yy zz xxxx yyyy zzzz\n",
      "[[2], [3], [4], [3], [4], [5], [4], [5], [6]]\n",
      "[[2, 3, 4, 5], [3, 4, 5, 6], [4, 5, 6, 7], [5, 6, 7, 8]]\n"
     ]
    },
    {
     "data": {
      "text/plain": [
       "[(1, 1), (1, 2), (1, 3), (2, 1), (2, 2), (2, 3), (3, 1), (3, 2), (3, 3)]"
      ]
     },
     "execution_count": 5,
     "metadata": {},
     "output_type": "execute_result"
    }
   ],
   "source": [
    "iter_string = \"ACADGILD\"\n",
    "comp_list = [x for x in iter_string if x !=\" \"]\n",
    "print(comp_list) \n",
    "A=['x'*(1),'x'*(2),'x'*(3),'x'*(4)]+['y'*(1),'y'*(2),'y'*(3),'y'*(4)]+['z'*(1),'z'*(2),'z'*(3),'z'*(4)]\n",
    "print(A)\n",
    "A=print('x'*(1),'y'*(1),'z'*(1),'x'*(2),'y'*(2),'z'*(2),'x'*(2),'y'*(2),'z'*(2),'x'*(4),'y'*(4),'z'*(4))\n",
    "a = [2,3,4]\n",
    "b = [3,4,5]\n",
    "c = [4,5,6]\n",
    "print(list(map(lambda x,y,z:[x+0],a,b,c))+ list(map(lambda x,y,z:[x+1],a,b,c))+ list(map(lambda x,y,z:[x+2],a,b,c)))\n",
    "a = [2,3,4,5]\n",
    "b = [3,4,5,6]\n",
    "c = [4,5,6,7]\n",
    "d = [5,6,7,8]\n",
    "matrix = [a,b,c,d]\n",
    "print(matrix)\n",
    "[(a,b) for a in range(1,4)for b in range(1,4)]"
   ]
  },
  {
   "cell_type": "code",
   "execution_count": null,
   "metadata": {
    "collapsed": true
   },
   "outputs": [],
   "source": [
    "\n"
   ]
  }
 ],
 "metadata": {
  "kernelspec": {
   "display_name": "Python 3",
   "language": "python",
   "name": "python3"
  },
  "language_info": {
   "codemirror_mode": {
    "name": "ipython",
    "version": 3
   },
   "file_extension": ".py",
   "mimetype": "text/x-python",
   "name": "python",
   "nbconvert_exporter": "python",
   "pygments_lexer": "ipython3",
   "version": "3.6.0"
  }
 },
 "nbformat": 4,
 "nbformat_minor": 2
}
